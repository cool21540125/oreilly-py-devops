{
 "cells": [
  {
   "cell_type": "markdown",
   "metadata": {},
   "source": [
    "# 加密文本"
   ]
  },
  {
   "cell_type": "markdown",
   "metadata": {},
   "source": [
    "Python 內建了 `hashlib` (提供了多種加密演算法), ex: SHA1 / SHA224 / SHA384 / SHA512 / 結合 RSA 的 MD5 / ...\n",
    "\n",
    "不過 3rd 提供了另一套 `cryptography`\n",
    "\n",
    "像是儲存密碼時, 常見做法是 將密碼進行單向加密, 在轉換成 位元串 (難以逆向破解)\n",
    "\n",
    "這種 **單向加密** 的方法稱為 **雜湊函式(hash function)**, 優點為:\n",
    "\n",
    "- 難以解讀\n",
    "- 雜湊保證網路傳輸時, 資料不被篡改"
   ]
  },
  {
   "cell_type": "code",
   "execution_count": 6,
   "metadata": {},
   "outputs": [
    {
     "name": "stdout",
     "output_type": "stream",
     "text": [
      "b'This is password'\n",
      "b'\\xeb \\xf2\\x9e,\\x9d\\x9c?\\xe4\\x10n1\\xd4\\xff\\xdc\\xff'\n"
     ]
    }
   ],
   "source": [
    "\"\"\"\n",
    "使用 MD5 對密碼進行 hash\n",
    "\n",
    "概念流程:\n",
    "密碼字串 -> 二進位字串 -> 做 hash\n",
    "\"\"\"\n",
    "import hashlib\n",
    "\n",
    "secret = \"This is password\"\n",
    "\n",
    "bsecret = secret.encode()\n",
    "print(bsecret)\n",
    "\n",
    "m = hashlib.md5()\n",
    "m.update(bsecret)\n",
    "\n",
    "print(m.digest())"
   ]
  },
  {
   "cell_type": "markdown",
   "metadata": {},
   "source": [
    "## Cryptography\n",
    "\n",
    "- 這也是 symmetric key encryption, 基於共享密鑰的加密演算法. 包含了:\n",
    "  - 進階加密標準(Advanced Encryption Standard, AES)\n",
    "    - Fernet 是其中一個實作標準\n",
    "  - Blowfish\n",
    "  - 資料加密標準(Data Encryption Standard, DES)\n",
    "  - Serpent\n",
    "  - Twofish\n",
    "  - ...\n",
    "- 此方式適合加密大型檔案 (較為直接, 快速)\n"
   ]
  },
  {
   "cell_type": "code",
   "execution_count": 4,
   "metadata": {},
   "outputs": [
    {
     "name": "stdout",
     "output_type": "stream",
     "text": [
      "b'fsweWBj05dBIgGWtRWlVyZDQxV9xIwzb-rj-ca46g3k='\n",
      "b'gAAAAABmEXhDnsyE8N1mX1-Qs9GnuqZ7Nsp5kuJDFXANhIm03w2SwR5xSq_c0k90ioetr4LnkhA6o0zml50NWh2-zgS58A1dKA=='\n"
     ]
    }
   ],
   "source": [
    "\"\"\"\n",
    "使用 AES 演算法 (Fernet 實作版本), 建立 對稱金鑰(key)\n",
    "使用這把 key 進行加密\n",
    "\n",
    "概念流程:\n",
    "byte(秘密字串) -> 使用 key 加密\n",
    "\"\"\"\n",
    "from cryptography.fernet import Fernet\n",
    "key = Fernet.generate_key()\n",
    "print(key)\n",
    "\n",
    "f = Fernet(key)\n",
    "\n",
    "message = b\"Secrets go here\"\n",
    "encrypted = f.encrypt(message)\n",
    "print(encrypted)"
   ]
  },
  {
   "cell_type": "markdown",
   "metadata": {},
   "source": [
    "# 非對稱金要加密\n",
    "\n",
    "- 其中一種知名的 非對稱金鑰演算法 為 RSA(Rivest-Shamir-Adleman), 廣泛的應用到 網路通訊"
   ]
  },
  {
   "cell_type": "code",
   "execution_count": 10,
   "metadata": {},
   "outputs": [
    {
     "name": "stdout",
     "output_type": "stream",
     "text": [
      "<cryptography.hazmat.bindings._rust.openssl.rsa.RSAPrivateKey object at 0x10820e630>\n",
      "<built-in method public_key of cryptography.hazmat.bindings._rust.openssl.rsa.RSAPrivateKey object at 0x10820e630>\n",
      "<cryptography.hazmat.bindings._rust.openssl.rsa.RSAPublicKey object at 0x10814d110>\n",
      "b'\\xa1\\xd6\\xba\\x129\\x96\\xd8\\x92H\\xda\\xac\\xef\\x12\\xf2/\\xe5z\\x16Z\\xaa)\\xa8\\x18\\x9a\\xcc(\\xfe\\x17\\xda+z16\\x8f?t\\x01\\xeer\\xd9\\xfb\\x97\\xcf\\xd4P\\xa0\\xb1xM\\x9f\\xa0s\\x0f\\xb7\\x90\\xc7?\\xe9\\xcc\\xdd\\x12\\x92{\\xf9s(\\xa2\\x06\\xf4\\xfd\\xac\\x96i\\x0cZ\\x8d\\x10?M\\xdfw\\xdb\\xa8\\x0c\\xce\\x1d\\xae\\xfe\\xd9/\\x96\\xf9\\xa56\\x15\\xce\\x19\\xd0S=y\\xbd\\n\\xac\\xddV\\xb5\\xdfm\\x84\\xe7\\xf3\\\\\\xa4\\xee\\xd3\\xe4=%\\xf9\\xcc\\xd8qV\\xaf\\x05\\xef\\xe3\\x0f\\x93\\'p\\x83\\xabX_\\xad\\xdf\\xd9:|\\xbav\\x92\\xe7Sm;,^\\x18G\\x0e\\x1cR_\\x1a\\x80\\xc4\\xf7d\\x15T\\x16\\xa4\\xef\\x88\\xb01\\xbby\\xe6\\x1a\\x0f\\x82\\x87\\r[\\xeb\\xfd\\x1bb\\x95\\xc5\"1\\x84*\\xa5\\xa1b\\x19\\xf6\\xcf)s\\xeb\\x8f\\x8b {\\xb6u\\xbe\\x0cV\\x1e\\x14\\xc7O\\n\\xa6\\xae\\x14\\xac\\t\\xe9\\xc3\\xce\\xb3\\xf6\\xe6\\x9f\\xc1\\xca\\x98\\x93Ju\\xc3\\x16\\x04\\x8d;\\xed\\xb7\\xa7\\xe8\\xf4GM\\xe1\\x91e\\xf4\\x88S\\xc0\\xeeq\\xbd\\xb4\\xbeDMp\\xfc\\x82\\xcfK\\xa6dN\\xde\\xf1rm(\\xf5L\\x8a\\xfe\\x9b\\x83\\xe8\\xc7\\x82\\x9e\\xc9;u\\x97p\\xaf\\xff`\\x8e\\xbf\\x84C]\\xdd\\xcb\\x8e\\x12\\xab\\xb5\\x0br\\x98\\xd5=\\xeb3U\\x87oy\\x1f\\xc2\\rh0\\xef\\xe5\\xe7fX\\xaa\\xaf\\x1c\\x86\\x83\\x0f\\x8a.\\x8b\\xb9\\xf7\\xc0\\x98\\xba\\x93\\xc6\\x16\\xc2\\x9f$o\\x8d\\xdf\\x95uA\\xcff\\xa3Q \\xab\\xd4\\xfce\\xca\\x9fMa\\xf4\\xe6\\xa3IALiW\\xcc\\xce\\xcaM\\xa2\\xcb\\xc2-\\xde\\xc7{\\xb2\\xacWC\\xe4Z\\x89\\xeb\\xf1\\xf2)Y\\x00\\xcc\\xfb\\xac\\xcb\"\\xf2$}6\\x84\\x9b\\xecr%\\xba\\xa1\\x06\\x82$\\'j\\xf2\\xa6T!\\x08\\xc7\\x96W\\xeb\\x82\\xd4\\x95\\xa4x\\x1e\\xba\\xe3\\xae\\xa3);\\xfb\\x87b\\x00\\xc6\\x88\\xe9h\\xff\\x96\\x12h\\xdaE\\x1e\\xa3\\x12\\xe6\\xe5\\xa2\\xf4_\\x82[xh!)b\\xd9#\\x07>:\\nj4\\x9b\\xbcjC\\xc9/41x\\xb5\\x8f\\xa0\\xc9\\xcd\\xcf^YG\\xb9XZ\\xcfw\\x16/b\\x01@\\xb4\\xb4;\\xa7\\xcaf\\xb7\\x93\\x90N\\x83\\x1f\\xf7o(\\x04'\n",
      "b'More secrets go here'\n"
     ]
    }
   ],
   "source": [
    "\"\"\"\n",
    "使用 RSA 進行加解密\n",
    "\"\"\"\n",
    "from cryptography.hazmat.backends import default_backend\n",
    "from cryptography.hazmat.primitives.asymmetric import rsa\n",
    "\n",
    "# gen key\n",
    "private_key = rsa.generate_private_key(public_exponent=65537, key_size=4096, backend=default_backend())\n",
    "print(private_key)\n",
    "\n",
    "public_key = private_key.public_key\n",
    "print(public_key)\n",
    "\n",
    "public_key = private_key.public_key()\n",
    "print(public_key)\n",
    "\n",
    "# start encryption\n",
    "message = b\"More secrets go here\"\n",
    "from cryptography.hazmat.primitives.asymmetric import padding\n",
    "from cryptography.hazmat.primitives import hashes\n",
    "\n",
    "encrypted = public_key.encrypt(message,\n",
    "                               padding.OAEP(mgf=padding.MGF1(algorithm=hashes.SHA256()),\n",
    "                               algorithm=hashes.SHA256(),\n",
    "                               label=None))\n",
    "print(encrypted)\n",
    "\n",
    "decrypted = private_key.decrypt(encrypted,\n",
    "                                padding.OAEP(mgf=padding.MGF1(algorithm=hashes.SHA256()),\n",
    "                                algorithm=hashes.SHA256(),\n",
    "                                label=None))\n",
    "print(decrypted)"
   ]
  },
  {
   "cell_type": "code",
   "execution_count": null,
   "metadata": {},
   "outputs": [],
   "source": []
  }
 ],
 "metadata": {
  "kernelspec": {
   "display_name": "Python 3 (ipykernel)",
   "language": "python",
   "name": "python3"
  },
  "language_info": {
   "codemirror_mode": {
    "name": "ipython",
    "version": 3
   },
   "file_extension": ".py",
   "mimetype": "text/x-python",
   "name": "python",
   "nbconvert_exporter": "python",
   "pygments_lexer": "ipython3",
   "version": "3.12.2"
  }
 },
 "nbformat": 4,
 "nbformat_minor": 4
}
